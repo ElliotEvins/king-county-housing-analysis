{
 "cells": [
  {
   "cell_type": "markdown",
   "metadata": {},
   "source": [
    "## Final Project Submission\n",
    "\n",
    "Please fill out:\n",
    "* Student name: Elliot Evins\n",
    "* Student pace: full time\n",
    "* Scheduled project review date/time: \n",
    "* Instructor name: \n",
    "* Blog post URL:\n"
   ]
  },
  {
   "cell_type": "code",
   "execution_count": 2,
   "metadata": {
    "ExecuteTime": {
     "end_time": "2020-07-14T17:36:34.958042Z",
     "start_time": "2020-07-14T17:36:34.954249Z"
    }
   },
   "outputs": [],
   "source": [
    "#Import Modules"
   ]
  },
  {
   "cell_type": "code",
   "execution_count": 21,
   "metadata": {
    "ExecuteTime": {
     "end_time": "2020-07-14T17:36:35.648777Z",
     "start_time": "2020-07-14T17:36:35.112176Z"
    }
   },
   "outputs": [],
   "source": [
    "import pandas as pd\n",
    "import numpy as np\n",
    "import matplotlib.pyplot as plt\n",
    "import seaborn as sns\n",
    "from sklearn.model_selection import train_test_split\n",
    "from sklearn.linear_model import LinearRegression\n",
    "from sklearn.model_selection import cross_val_predict"
   ]
  },
  {
   "cell_type": "code",
   "execution_count": 4,
   "metadata": {
    "ExecuteTime": {
     "end_time": "2020-07-14T17:36:35.723403Z",
     "start_time": "2020-07-14T17:36:35.715775Z"
    }
   },
   "outputs": [],
   "source": [
    "#Import data and look for data features with incorrect encoding"
   ]
  },
  {
   "cell_type": "code",
   "execution_count": 5,
   "metadata": {
    "ExecuteTime": {
     "end_time": "2020-07-14T17:36:35.915593Z",
     "start_time": "2020-07-14T17:36:35.786208Z"
    }
   },
   "outputs": [
    {
     "name": "stdout",
     "output_type": "stream",
     "text": [
      "<class 'pandas.core.frame.DataFrame'>\n",
      "RangeIndex: 21597 entries, 0 to 21596\n",
      "Data columns (total 21 columns):\n",
      "id               21597 non-null int64\n",
      "date             21597 non-null object\n",
      "price            21597 non-null float64\n",
      "bedrooms         21597 non-null int64\n",
      "bathrooms        21597 non-null float64\n",
      "sqft_living      21597 non-null int64\n",
      "sqft_lot         21597 non-null int64\n",
      "floors           21597 non-null float64\n",
      "waterfront       19221 non-null float64\n",
      "view             21534 non-null float64\n",
      "condition        21597 non-null int64\n",
      "grade            21597 non-null int64\n",
      "sqft_above       21597 non-null int64\n",
      "sqft_basement    21597 non-null object\n",
      "yr_built         21597 non-null int64\n",
      "yr_renovated     17755 non-null float64\n",
      "zipcode          21597 non-null int64\n",
      "lat              21597 non-null float64\n",
      "long             21597 non-null float64\n",
      "sqft_living15    21597 non-null int64\n",
      "sqft_lot15       21597 non-null int64\n",
      "dtypes: float64(8), int64(11), object(2)\n",
      "memory usage: 3.5+ MB\n"
     ]
    }
   ],
   "source": [
    "df = pd.read_csv('../CSVs/kc_house_data.csv')\n",
    "df.info()"
   ]
  },
  {
   "cell_type": "code",
   "execution_count": 6,
   "metadata": {
    "ExecuteTime": {
     "end_time": "2020-07-14T17:36:36.248044Z",
     "start_time": "2020-07-14T17:36:36.205768Z"
    }
   },
   "outputs": [
    {
     "data": {
      "text/html": [
       "<div>\n",
       "<style scoped>\n",
       "    .dataframe tbody tr th:only-of-type {\n",
       "        vertical-align: middle;\n",
       "    }\n",
       "\n",
       "    .dataframe tbody tr th {\n",
       "        vertical-align: top;\n",
       "    }\n",
       "\n",
       "    .dataframe thead th {\n",
       "        text-align: right;\n",
       "    }\n",
       "</style>\n",
       "<table border=\"1\" class=\"dataframe\">\n",
       "  <thead>\n",
       "    <tr style=\"text-align: right;\">\n",
       "      <th></th>\n",
       "      <th>id</th>\n",
       "      <th>date</th>\n",
       "      <th>price</th>\n",
       "      <th>bedrooms</th>\n",
       "      <th>bathrooms</th>\n",
       "      <th>sqft_living</th>\n",
       "      <th>sqft_lot</th>\n",
       "      <th>floors</th>\n",
       "      <th>waterfront</th>\n",
       "      <th>view</th>\n",
       "      <th>...</th>\n",
       "      <th>grade</th>\n",
       "      <th>sqft_above</th>\n",
       "      <th>sqft_basement</th>\n",
       "      <th>yr_built</th>\n",
       "      <th>yr_renovated</th>\n",
       "      <th>zipcode</th>\n",
       "      <th>lat</th>\n",
       "      <th>long</th>\n",
       "      <th>sqft_living15</th>\n",
       "      <th>sqft_lot15</th>\n",
       "    </tr>\n",
       "  </thead>\n",
       "  <tbody>\n",
       "    <tr>\n",
       "      <td>0</td>\n",
       "      <td>7129300520</td>\n",
       "      <td>10/13/2014</td>\n",
       "      <td>221900.0</td>\n",
       "      <td>3</td>\n",
       "      <td>1.00</td>\n",
       "      <td>1180</td>\n",
       "      <td>5650</td>\n",
       "      <td>1.0</td>\n",
       "      <td>NaN</td>\n",
       "      <td>0.0</td>\n",
       "      <td>...</td>\n",
       "      <td>7</td>\n",
       "      <td>1180</td>\n",
       "      <td>0.0</td>\n",
       "      <td>1955</td>\n",
       "      <td>0.0</td>\n",
       "      <td>98178</td>\n",
       "      <td>47.5112</td>\n",
       "      <td>-122.257</td>\n",
       "      <td>1340</td>\n",
       "      <td>5650</td>\n",
       "    </tr>\n",
       "    <tr>\n",
       "      <td>1</td>\n",
       "      <td>6414100192</td>\n",
       "      <td>12/9/2014</td>\n",
       "      <td>538000.0</td>\n",
       "      <td>3</td>\n",
       "      <td>2.25</td>\n",
       "      <td>2570</td>\n",
       "      <td>7242</td>\n",
       "      <td>2.0</td>\n",
       "      <td>0.0</td>\n",
       "      <td>0.0</td>\n",
       "      <td>...</td>\n",
       "      <td>7</td>\n",
       "      <td>2170</td>\n",
       "      <td>400.0</td>\n",
       "      <td>1951</td>\n",
       "      <td>1991.0</td>\n",
       "      <td>98125</td>\n",
       "      <td>47.7210</td>\n",
       "      <td>-122.319</td>\n",
       "      <td>1690</td>\n",
       "      <td>7639</td>\n",
       "    </tr>\n",
       "    <tr>\n",
       "      <td>2</td>\n",
       "      <td>5631500400</td>\n",
       "      <td>2/25/2015</td>\n",
       "      <td>180000.0</td>\n",
       "      <td>2</td>\n",
       "      <td>1.00</td>\n",
       "      <td>770</td>\n",
       "      <td>10000</td>\n",
       "      <td>1.0</td>\n",
       "      <td>0.0</td>\n",
       "      <td>0.0</td>\n",
       "      <td>...</td>\n",
       "      <td>6</td>\n",
       "      <td>770</td>\n",
       "      <td>0.0</td>\n",
       "      <td>1933</td>\n",
       "      <td>NaN</td>\n",
       "      <td>98028</td>\n",
       "      <td>47.7379</td>\n",
       "      <td>-122.233</td>\n",
       "      <td>2720</td>\n",
       "      <td>8062</td>\n",
       "    </tr>\n",
       "    <tr>\n",
       "      <td>3</td>\n",
       "      <td>2487200875</td>\n",
       "      <td>12/9/2014</td>\n",
       "      <td>604000.0</td>\n",
       "      <td>4</td>\n",
       "      <td>3.00</td>\n",
       "      <td>1960</td>\n",
       "      <td>5000</td>\n",
       "      <td>1.0</td>\n",
       "      <td>0.0</td>\n",
       "      <td>0.0</td>\n",
       "      <td>...</td>\n",
       "      <td>7</td>\n",
       "      <td>1050</td>\n",
       "      <td>910.0</td>\n",
       "      <td>1965</td>\n",
       "      <td>0.0</td>\n",
       "      <td>98136</td>\n",
       "      <td>47.5208</td>\n",
       "      <td>-122.393</td>\n",
       "      <td>1360</td>\n",
       "      <td>5000</td>\n",
       "    </tr>\n",
       "    <tr>\n",
       "      <td>4</td>\n",
       "      <td>1954400510</td>\n",
       "      <td>2/18/2015</td>\n",
       "      <td>510000.0</td>\n",
       "      <td>3</td>\n",
       "      <td>2.00</td>\n",
       "      <td>1680</td>\n",
       "      <td>8080</td>\n",
       "      <td>1.0</td>\n",
       "      <td>0.0</td>\n",
       "      <td>0.0</td>\n",
       "      <td>...</td>\n",
       "      <td>8</td>\n",
       "      <td>1680</td>\n",
       "      <td>0.0</td>\n",
       "      <td>1987</td>\n",
       "      <td>0.0</td>\n",
       "      <td>98074</td>\n",
       "      <td>47.6168</td>\n",
       "      <td>-122.045</td>\n",
       "      <td>1800</td>\n",
       "      <td>7503</td>\n",
       "    </tr>\n",
       "  </tbody>\n",
       "</table>\n",
       "<p>5 rows × 21 columns</p>\n",
       "</div>"
      ],
      "text/plain": [
       "           id        date     price  bedrooms  bathrooms  sqft_living  \\\n",
       "0  7129300520  10/13/2014  221900.0         3       1.00         1180   \n",
       "1  6414100192   12/9/2014  538000.0         3       2.25         2570   \n",
       "2  5631500400   2/25/2015  180000.0         2       1.00          770   \n",
       "3  2487200875   12/9/2014  604000.0         4       3.00         1960   \n",
       "4  1954400510   2/18/2015  510000.0         3       2.00         1680   \n",
       "\n",
       "   sqft_lot  floors  waterfront  view  ...  grade  sqft_above  sqft_basement  \\\n",
       "0      5650     1.0         NaN   0.0  ...      7        1180            0.0   \n",
       "1      7242     2.0         0.0   0.0  ...      7        2170          400.0   \n",
       "2     10000     1.0         0.0   0.0  ...      6         770            0.0   \n",
       "3      5000     1.0         0.0   0.0  ...      7        1050          910.0   \n",
       "4      8080     1.0         0.0   0.0  ...      8        1680            0.0   \n",
       "\n",
       "  yr_built  yr_renovated  zipcode      lat     long  sqft_living15  sqft_lot15  \n",
       "0     1955           0.0    98178  47.5112 -122.257           1340        5650  \n",
       "1     1951        1991.0    98125  47.7210 -122.319           1690        7639  \n",
       "2     1933           NaN    98028  47.7379 -122.233           2720        8062  \n",
       "3     1965           0.0    98136  47.5208 -122.393           1360        5000  \n",
       "4     1987           0.0    98074  47.6168 -122.045           1800        7503  \n",
       "\n",
       "[5 rows x 21 columns]"
      ]
     },
     "execution_count": 6,
     "metadata": {},
     "output_type": "execute_result"
    }
   ],
   "source": [
    "df.head()"
   ]
  },
  {
   "cell_type": "code",
   "execution_count": 7,
   "metadata": {
    "ExecuteTime": {
     "end_time": "2020-07-14T17:36:36.572172Z",
     "start_time": "2020-07-14T17:36:36.538320Z"
    }
   },
   "outputs": [
    {
     "name": "stdout",
     "output_type": "stream",
     "text": [
      "The are 0 duplicate rows\n"
     ]
    }
   ],
   "source": [
    "duplicate_rows = df[df.duplicated()]\n",
    "print(f\"The are {len(duplicate_rows)} duplicate rows\")"
   ]
  },
  {
   "cell_type": "code",
   "execution_count": 8,
   "metadata": {
    "ExecuteTime": {
     "end_time": "2020-07-14T17:36:36.908861Z",
     "start_time": "2020-07-14T17:36:36.895075Z"
    }
   },
   "outputs": [
    {
     "name": "stdout",
     "output_type": "stream",
     "text": [
      "There are 177 duplicate values of id, which represent 0.008% of all entries.\n"
     ]
    }
   ],
   "source": [
    "duplicate_id = df[df.duplicated('id')]\n",
    "print(f'There are {len(duplicate_id)} duplicate values of id, ' \n",
    "      f'which represent {round(len(duplicate_id)/len(df),3)}% of all entries.')"
   ]
  },
  {
   "cell_type": "code",
   "execution_count": 9,
   "metadata": {
    "ExecuteTime": {
     "end_time": "2020-07-14T17:36:37.410449Z",
     "start_time": "2020-07-14T17:36:37.381864Z"
    }
   },
   "outputs": [
    {
     "name": "stdout",
     "output_type": "stream",
     "text": [
      "waterfront has 2376 missing values.\n",
      "view has 63 missing values.\n",
      "yr_renovated has 3842 missing values.\n"
     ]
    }
   ],
   "source": [
    "for col in df:\n",
    "    v = df[col].isna().sum()\n",
    "    if v > 0:\n",
    "        print(f'{col} has {v} missing values.')"
   ]
  },
  {
   "cell_type": "markdown",
   "metadata": {},
   "source": [
    "Since we have access to the original data, I believe in this case we'll want to deal with missing values before we convert datatypes. We'll start by importing a new CSV and seeing if we can merge the missing values. "
   ]
  },
  {
   "cell_type": "markdown",
   "metadata": {},
   "source": [
    "We'll want to convert date to datetime; sqft_basement and yr_renovated to integer; waterfront and view to categorical str; and grade and condition to ordinal str. "
   ]
  },
  {
   "cell_type": "code",
   "execution_count": 10,
   "metadata": {
    "ExecuteTime": {
     "end_time": "2020-07-14T17:36:38.101139Z",
     "start_time": "2020-07-14T17:36:38.050211Z"
    }
   },
   "outputs": [],
   "source": [
    "# Remove characters from sqft_basement and convert to float, then integer\n",
    "df.sqft_basement = df.sqft_basement.str.replace('?', '0')\n",
    "df.sqft_basement = df.sqft_basement.str.replace('0.0', '0')\n",
    "df.sqft_basement = df.sqft_basement.astype('float')"
   ]
  },
  {
   "cell_type": "code",
   "execution_count": 11,
   "metadata": {
    "ExecuteTime": {
     "end_time": "2020-07-14T17:36:38.520560Z",
     "start_time": "2020-07-14T17:36:38.498002Z"
    }
   },
   "outputs": [],
   "source": [
    "# Convert yr_renovated to integer\n",
    "df.yr_renovated = df.yr_renovated.fillna(0)\n",
    "df.yr_renovated = df.yr_renovated.astype('int64')\n",
    "df.yr_renovated = df.yr_renovated.replace(0, np.nan)"
   ]
  },
  {
   "cell_type": "code",
   "execution_count": 12,
   "metadata": {
    "ExecuteTime": {
     "end_time": "2020-07-14T17:36:38.933681Z",
     "start_time": "2020-07-14T17:36:38.920199Z"
    }
   },
   "outputs": [
    {
     "data": {
      "text/plain": [
       "array([nan,  0.,  1.])"
      ]
     },
     "execution_count": 12,
     "metadata": {},
     "output_type": "execute_result"
    }
   ],
   "source": [
    "# Convert waterfront and view to strings\n",
    "df.waterfront = df.waterfront.fillna(9)\n",
    "df.waterfront = df.waterfront.astype('int64')\n",
    "df.waterfront = df.waterfront.replace(9, np.nan)\n",
    "df.waterfront.unique()"
   ]
  },
  {
   "cell_type": "code",
   "execution_count": 13,
   "metadata": {
    "ExecuteTime": {
     "end_time": "2020-07-14T17:36:39.643011Z",
     "start_time": "2020-07-14T17:36:39.629067Z"
    }
   },
   "outputs": [
    {
     "data": {
      "text/plain": [
       "array([ 0., nan,  3.,  4.,  2.,  1.])"
      ]
     },
     "execution_count": 13,
     "metadata": {},
     "output_type": "execute_result"
    }
   ],
   "source": [
    "df.view = df.view.fillna(9)\n",
    "df.view = df.view.astype('int64')\n",
    "df.view = df.view.replace(9, np.nan)\n",
    "df.view.unique()"
   ]
  },
  {
   "cell_type": "code",
   "execution_count": 14,
   "metadata": {
    "ExecuteTime": {
     "end_time": "2020-07-14T17:36:40.176445Z",
     "start_time": "2020-07-14T17:36:40.127910Z"
    }
   },
   "outputs": [
    {
     "name": "stdout",
     "output_type": "stream",
     "text": [
      "<class 'pandas.core.frame.DataFrame'>\n",
      "RangeIndex: 21597 entries, 0 to 21596\n",
      "Data columns (total 21 columns):\n",
      "id               21597 non-null int64\n",
      "date             21597 non-null object\n",
      "price            21597 non-null float64\n",
      "bedrooms         21597 non-null int64\n",
      "bathrooms        21597 non-null float64\n",
      "sqft_living      21597 non-null int64\n",
      "sqft_lot         21597 non-null int64\n",
      "floors           21597 non-null float64\n",
      "waterfront       19221 non-null float64\n",
      "view             21534 non-null float64\n",
      "condition        21597 non-null int64\n",
      "grade            21597 non-null int64\n",
      "sqft_above       21597 non-null int64\n",
      "sqft_basement    21597 non-null float64\n",
      "yr_built         21597 non-null int64\n",
      "yr_renovated     744 non-null float64\n",
      "zipcode          21597 non-null int64\n",
      "lat              21597 non-null float64\n",
      "long             21597 non-null float64\n",
      "sqft_living15    21597 non-null int64\n",
      "sqft_lot15       21597 non-null int64\n",
      "dtypes: float64(9), int64(11), object(1)\n",
      "memory usage: 3.5+ MB\n"
     ]
    }
   ],
   "source": [
    "df.info()"
   ]
  },
  {
   "cell_type": "code",
   "execution_count": 15,
   "metadata": {
    "ExecuteTime": {
     "end_time": "2020-07-14T17:36:40.746764Z",
     "start_time": "2020-07-14T17:36:40.640415Z"
    }
   },
   "outputs": [
    {
     "name": "stdout",
     "output_type": "stream",
     "text": [
      "<class 'pandas.core.frame.DataFrame'>\n",
      "RangeIndex: 21613 entries, 0 to 21612\n",
      "Data columns (total 21 columns):\n",
      "id               21613 non-null int64\n",
      "date             21613 non-null object\n",
      "price            21613 non-null float64\n",
      "bedrooms         21613 non-null int64\n",
      "bathrooms        21613 non-null float64\n",
      "sqft_living      21613 non-null int64\n",
      "sqft_lot         21613 non-null int64\n",
      "floors           21613 non-null float64\n",
      "waterfront       21613 non-null int64\n",
      "view             21613 non-null int64\n",
      "condition        21613 non-null int64\n",
      "grade            21613 non-null int64\n",
      "sqft_above       21613 non-null int64\n",
      "sqft_basement    21613 non-null int64\n",
      "yr_built         21613 non-null int64\n",
      "yr_renovated     21613 non-null int64\n",
      "zipcode          21613 non-null int64\n",
      "lat              21613 non-null float64\n",
      "long             21613 non-null float64\n",
      "sqft_living15    21613 non-null int64\n",
      "sqft_lot15       21613 non-null int64\n",
      "dtypes: float64(5), int64(15), object(1)\n",
      "memory usage: 3.5+ MB\n"
     ]
    }
   ],
   "source": [
    "df2=pd.read_csv('../CSVs/full_kc.csv')\n",
    "df2.info()"
   ]
  },
  {
   "cell_type": "code",
   "execution_count": 16,
   "metadata": {
    "ExecuteTime": {
     "end_time": "2020-07-14T17:36:42.097216Z",
     "start_time": "2020-07-14T17:36:42.041003Z"
    },
    "scrolled": true
   },
   "outputs": [
    {
     "name": "stdout",
     "output_type": "stream",
     "text": [
      "<class 'pandas.core.frame.DataFrame'>\n",
      "Int64Index: 21953 entries, 0 to 21952\n",
      "Data columns (total 21 columns):\n",
      "id               21953 non-null int64\n",
      "date             21953 non-null object\n",
      "price            21953 non-null float64\n",
      "bedrooms         21953 non-null int64\n",
      "bathrooms        21953 non-null float64\n",
      "sqft_living      21953 non-null int64\n",
      "sqft_lot         21953 non-null int64\n",
      "floors           21953 non-null float64\n",
      "waterfront       21953 non-null int64\n",
      "view             21953 non-null int64\n",
      "condition        21953 non-null int64\n",
      "grade            21953 non-null int64\n",
      "sqft_above       21953 non-null int64\n",
      "sqft_basement    21953 non-null int64\n",
      "yr_built         21953 non-null int64\n",
      "yr_renovated     21953 non-null int64\n",
      "zipcode          21953 non-null int64\n",
      "lat              21953 non-null float64\n",
      "long             21953 non-null float64\n",
      "sqft_living15    21953 non-null int64\n",
      "sqft_lot15       21953 non-null int64\n",
      "dtypes: float64(5), int64(15), object(1)\n",
      "memory usage: 3.7+ MB\n"
     ]
    }
   ],
   "source": [
    "df = pd.merge(df.id, df2, how='inner')\n",
    "df.info()"
   ]
  },
  {
   "cell_type": "code",
   "execution_count": 17,
   "metadata": {
    "ExecuteTime": {
     "end_time": "2020-07-14T17:36:42.703630Z",
     "start_time": "2020-07-14T17:36:42.690044Z"
    }
   },
   "outputs": [
    {
     "name": "stdout",
     "output_type": "stream",
     "text": [
      "There are 533 duplicate values of id, which represent 0.024% of all entries.\n"
     ]
    }
   ],
   "source": [
    "duplicate_id = df[df.duplicated('id')]\n",
    "print(f'There are {len(duplicate_id)} duplicate values of id, ' \n",
    "      f'which represent {round(len(duplicate_id)/len(df),3)}% of all entries.')"
   ]
  },
  {
   "cell_type": "markdown",
   "metadata": {},
   "source": [
    "Data is cleaned - let's export it as a CSV and put it all into a model to see what out baseline is..."
   ]
  },
  {
   "cell_type": "code",
   "execution_count": 18,
   "metadata": {},
   "outputs": [],
   "source": [
    "df.to_csv('clean_kc.csv', index = False)"
   ]
  },
  {
   "cell_type": "markdown",
   "metadata": {},
   "source": [
    "### As expected, there are quite a few categorical variables so for these we might be able to gain some information from boxplots"
   ]
  },
  {
   "cell_type": "code",
   "execution_count": 19,
   "metadata": {},
   "outputs": [
    {
     "data": {
      "text/html": [
       "<table class=\"simpletable\">\n",
       "<tr>\n",
       "        <td>Model:</td>               <td>OLS</td>         <td>Adj. R-squared:</td>      <td>0.696</td>   \n",
       "</tr>\n",
       "<tr>\n",
       "  <td>Dependent Variable:</td>       <td>price</td>             <td>AIC:</td>         <td>598700.3202</td>\n",
       "</tr>\n",
       "<tr>\n",
       "         <td>Date:</td>        <td>2020-07-26 12:21</td>        <td>BIC:</td>         <td>598836.2634</td>\n",
       "</tr>\n",
       "<tr>\n",
       "   <td>No. Observations:</td>        <td>21953</td>        <td>Log-Likelihood:</td>   <td>-2.9933e+05</td>\n",
       "</tr>\n",
       "<tr>\n",
       "       <td>Df Model:</td>             <td>16</td>           <td>F-statistic:</td>        <td>3137.</td>   \n",
       "</tr>\n",
       "<tr>\n",
       "     <td>Df Residuals:</td>          <td>21936</td>      <td>Prob (F-statistic):</td>    <td>0.00</td>    \n",
       "</tr>\n",
       "<tr>\n",
       "      <td>R-squared:</td>            <td>0.696</td>            <td>Scale:</td>        <td>4.0854e+10</td> \n",
       "</tr>\n",
       "</table>\n",
       "<table class=\"simpletable\">\n",
       "<tr>\n",
       "        <td></td>             <th>Coef.</th>       <th>Std.Err.</th>       <th>t</th>     <th>P>|t|</th>     <th>[0.025</th>         <th>0.975]</th>    \n",
       "</tr>\n",
       "<tr>\n",
       "  <th>Intercept</th>     <td>-36953497.4298</td> <td>1582529.9785</td> <td>-23.3509</td> <td>0.0000</td> <td>-40055370.3443</td> <td>-33851624.5152</td>\n",
       "</tr>\n",
       "<tr>\n",
       "  <th>bedrooms</th>        <td>-33624.6656</td>    <td>1885.5297</td>  <td>-17.8330</td> <td>0.0000</td>   <td>-37320.4398</td>    <td>-29928.8913</td> \n",
       "</tr>\n",
       "<tr>\n",
       "  <th>bathrooms</th>       <td>41244.7361</td>     <td>3252.2842</td>   <td>12.6818</td> <td>0.0000</td>   <td>34870.0244</td>     <td>47619.4478</td>  \n",
       "</tr>\n",
       "<tr>\n",
       "  <th>sqft_living</th>      <td>108.0890</td>       <td>2.2728</td>     <td>47.5571</td> <td>0.0000</td>    <td>103.6341</td>       <td>112.5439</td>   \n",
       "</tr>\n",
       "<tr>\n",
       "  <th>sqft_lot</th>          <td>0.1319</td>        <td>0.0481</td>     <td>2.7428</td>  <td>0.0061</td>     <td>0.0376</td>         <td>0.2261</td>    \n",
       "</tr>\n",
       "<tr>\n",
       "  <th>floors</th>           <td>443.0138</td>      <td>3583.6622</td>   <td>0.1236</td>  <td>0.9016</td>   <td>-6581.2227</td>      <td>7467.2503</td>  \n",
       "</tr>\n",
       "<tr>\n",
       "  <th>waterfront</th>      <td>588539.2301</td>   <td>17414.6870</td>   <td>33.7956</td> <td>0.0000</td>   <td>554405.1873</td>    <td>622673.2728</td> \n",
       "</tr>\n",
       "<tr>\n",
       "  <th>view</th>            <td>49424.1404</td>     <td>2127.8956</td>   <td>23.2268</td> <td>0.0000</td>   <td>45253.3114</td>     <td>53594.9693</td>  \n",
       "</tr>\n",
       "<tr>\n",
       "  <th>condition</th>       <td>30963.1051</td>     <td>2316.9587</td>   <td>13.3637</td> <td>0.0000</td>   <td>26421.6990</td>     <td>35504.5113</td>  \n",
       "</tr>\n",
       "<tr>\n",
       "  <th>grade</th>           <td>97842.6559</td>     <td>2150.8403</td>   <td>45.4904</td> <td>0.0000</td>   <td>93626.8536</td>     <td>102058.4581</td> \n",
       "</tr>\n",
       "<tr>\n",
       "  <th>sqft_above</th>        <td>71.0683</td>       <td>2.2510</td>     <td>31.5721</td> <td>0.0000</td>     <td>66.6562</td>        <td>75.4804</td>   \n",
       "</tr>\n",
       "<tr>\n",
       "  <th>sqft_basement</th>     <td>37.0197</td>       <td>2.6419</td>     <td>14.0126</td> <td>0.0000</td>     <td>31.8414</td>        <td>42.1980</td>   \n",
       "</tr>\n",
       "<tr>\n",
       "  <th>yr_built</th>        <td>-2455.3322</td>      <td>71.8545</td>   <td>-34.1709</td> <td>0.0000</td>   <td>-2596.1722</td>     <td>-2314.4922</td>  \n",
       "</tr>\n",
       "<tr>\n",
       "  <th>yr_renovated</th>      <td>20.9955</td>       <td>3.6499</td>     <td>5.7524</td>  <td>0.0000</td>     <td>13.8415</td>        <td>28.1495</td>   \n",
       "</tr>\n",
       "<tr>\n",
       "  <th>lat</th>             <td>558707.9479</td>   <td>10444.2220</td>   <td>53.4945</td> <td>0.0000</td>   <td>538236.5193</td>    <td>579179.3764</td> \n",
       "</tr>\n",
       "<tr>\n",
       "  <th>long</th>           <td>-118634.9387</td>   <td>11897.6759</td>   <td>-9.9713</td> <td>0.0000</td>  <td>-141955.2418</td>    <td>-95314.6356</td> \n",
       "</tr>\n",
       "<tr>\n",
       "  <th>sqft_living15</th>     <td>27.8960</td>       <td>3.4313</td>     <td>8.1298</td>  <td>0.0000</td>     <td>21.1703</td>        <td>34.6217</td>   \n",
       "</tr>\n",
       "<tr>\n",
       "  <th>sqft_lot15</th>        <td>-0.4059</td>       <td>0.0735</td>     <td>-5.5202</td> <td>0.0000</td>     <td>-0.5501</td>        <td>-0.2618</td>   \n",
       "</tr>\n",
       "</table>\n",
       "<table class=\"simpletable\">\n",
       "<tr>\n",
       "     <td>Omnibus:</td>    <td>18806.356</td>  <td>Durbin-Watson:</td>          <td>1.980</td>      \n",
       "</tr>\n",
       "<tr>\n",
       "  <td>Prob(Omnibus):</td>   <td>0.000</td>   <td>Jarque-Bera (JB):</td>     <td>1913454.621</td>   \n",
       "</tr>\n",
       "<tr>\n",
       "       <td>Skew:</td>       <td>3.609</td>       <td>Prob(JB):</td>            <td>0.000</td>      \n",
       "</tr>\n",
       "<tr>\n",
       "     <td>Kurtosis:</td>    <td>48.164</td>    <td>Condition No.:</td>   <td>171294126951673216</td>\n",
       "</tr>\n",
       "</table>"
      ],
      "text/plain": [
       "<class 'statsmodels.iolib.summary2.Summary'>\n",
       "\"\"\"\n",
       "                            Results: Ordinary least squares\n",
       "=======================================================================================\n",
       "Model:                     OLS                    Adj. R-squared:           0.696      \n",
       "Dependent Variable:        price                  AIC:                      598700.3202\n",
       "Date:                      2020-07-26 12:21       BIC:                      598836.2634\n",
       "No. Observations:          21953                  Log-Likelihood:           -2.9933e+05\n",
       "Df Model:                  16                     F-statistic:              3137.      \n",
       "Df Residuals:              21936                  Prob (F-statistic):       0.00       \n",
       "R-squared:                 0.696                  Scale:                    4.0854e+10 \n",
       "---------------------------------------------------------------------------------------\n",
       "                  Coef.        Std.Err.      t     P>|t|      [0.025         0.975]    \n",
       "---------------------------------------------------------------------------------------\n",
       "Intercept     -36953497.4298 1582529.9785 -23.3509 0.0000 -40055370.3443 -33851624.5152\n",
       "bedrooms         -33624.6656    1885.5297 -17.8330 0.0000    -37320.4398    -29928.8913\n",
       "bathrooms         41244.7361    3252.2842  12.6818 0.0000     34870.0244     47619.4478\n",
       "sqft_living         108.0890       2.2728  47.5571 0.0000       103.6341       112.5439\n",
       "sqft_lot              0.1319       0.0481   2.7428 0.0061         0.0376         0.2261\n",
       "floors              443.0138    3583.6622   0.1236 0.9016     -6581.2227      7467.2503\n",
       "waterfront       588539.2301   17414.6870  33.7956 0.0000    554405.1873    622673.2728\n",
       "view              49424.1404    2127.8956  23.2268 0.0000     45253.3114     53594.9693\n",
       "condition         30963.1051    2316.9587  13.3637 0.0000     26421.6990     35504.5113\n",
       "grade             97842.6559    2150.8403  45.4904 0.0000     93626.8536    102058.4581\n",
       "sqft_above           71.0683       2.2510  31.5721 0.0000        66.6562        75.4804\n",
       "sqft_basement        37.0197       2.6419  14.0126 0.0000        31.8414        42.1980\n",
       "yr_built          -2455.3322      71.8545 -34.1709 0.0000     -2596.1722     -2314.4922\n",
       "yr_renovated         20.9955       3.6499   5.7524 0.0000        13.8415        28.1495\n",
       "lat              558707.9479   10444.2220  53.4945 0.0000    538236.5193    579179.3764\n",
       "long            -118634.9387   11897.6759  -9.9713 0.0000   -141955.2418    -95314.6356\n",
       "sqft_living15        27.8960       3.4313   8.1298 0.0000        21.1703        34.6217\n",
       "sqft_lot15           -0.4059       0.0735  -5.5202 0.0000        -0.5501        -0.2618\n",
       "---------------------------------------------------------------------------------------\n",
       "Omnibus:                 18806.356         Durbin-Watson:            1.980             \n",
       "Prob(Omnibus):           0.000             Jarque-Bera (JB):         1913454.621       \n",
       "Skew:                    3.609             Prob(JB):                 0.000             \n",
       "Kurtosis:                48.164            Condition No.:            171294126951673216\n",
       "=======================================================================================\n",
       "* The condition number is large (2e+17). This might indicate             strong\n",
       "multicollinearity or other numerical problems.\n",
       "\"\"\""
      ]
     },
     "execution_count": 19,
     "metadata": {},
     "output_type": "execute_result"
    }
   ],
   "source": [
    "import statsmodels.api as sm\n",
    "import statsmodels.formula.api as smf\n",
    "import scipy.stats as stats\n",
    "import statsmodels.stats.api as sms\n",
    "from statsmodels.formula.api import ols\n",
    "\n",
    "outcome = 'price'\n",
    "x_cols = df.drop(['price','date','zipcode','id'], axis=1).columns\n",
    "predictors = '+'.join(x_cols)\n",
    "f = outcome + '~' + predictors\n",
    "\n",
    "model = smf.ols(formula=f, data=df).fit()\n",
    "model.summary2()"
   ]
  },
  {
   "cell_type": "code",
   "execution_count": 22,
   "metadata": {},
   "outputs": [
    {
     "name": "stdout",
     "output_type": "stream",
     "text": [
      "Train Mean Squarred Error: 42570539747.89382\n",
      "Test Mean Squarred Error: 33958841030.074215\n"
     ]
    }
   ],
   "source": [
    "y = df['price']\n",
    "X = df.drop(['price','date','zipcode','id'], axis = 1)\n",
    "X_train, X_test, y_train, y_test = train_test_split(X, y, test_size = 0.2)\n",
    "\n",
    "linreg = LinearRegression()\n",
    "linreg.fit(X_train, y_train)\n",
    "\n",
    "y_hat_train = linreg.predict(X_train)\n",
    "y_hat_test = linreg.predict(X_test)\n",
    "\n",
    "mse_train = np.sum((y_train-y_hat_train)**2)/len(y_train)\n",
    "mse_test =np.sum((y_test-y_hat_test)**2)/len(y_test)\n",
    "print('Train Mean Squarred Error:', mse_train)\n",
    "print('Test Mean Squarred Error:', mse_test)"
   ]
  },
  {
   "cell_type": "code",
   "execution_count": 23,
   "metadata": {},
   "outputs": [
    {
     "name": "stdout",
     "output_type": "stream",
     "text": [
      "Train Root Mean Squarred Error: 206326.2943686379\n",
      "Test Root Mean Squarred Error: 184279.24742106535\n"
     ]
    }
   ],
   "source": [
    "rmse_test = np.sqrt(mse_test)\n",
    "rmse_train = np.sqrt(mse_train)\n",
    "print('Train Root Mean Squarred Error:', rmse_train)\n",
    "print('Test Root Mean Squarred Error:', rmse_test)"
   ]
  },
  {
   "cell_type": "code",
   "execution_count": 25,
   "metadata": {},
   "outputs": [
    {
     "data": {
      "image/png": "[encoded data removed]",
      "text/plain": [
       "<Figure size 1008x720 with 1 Axes>"
      ]
     },
     "metadata": {
      "needs_background": "light"
     },
     "output_type": "display_data"
    }
   ],
   "source": [
    "predicted = cross_val_predict(linreg, X, y, cv=10)\n",
    "\n",
    "plt.figure(figsize = (14,10))\n",
    "plt.scatter(y, predicted, alpha=0.2, color='green')\n",
    "plt.plot([y.min(), y.max()], [y.min(), y.max()], 'k--', lw=4)\n",
    "plt.xlabel('Measured Price', size=12)\n",
    "plt.ylabel('Predicted Price', size=12)\n",
    "plt.title(\"Baseline Model\", size=14)\n",
    "plt.show();"
   ]
  },
  {
   "cell_type": "markdown",
   "metadata": {},
   "source": [
    "R-Squared value of 0.696 is a good starting point for an initial model. Let's do some more data exploration in the next notebook and see what we can improve. "
   ]
  }
 ],
 "metadata": {
  "kernelspec": {
   "display_name": "learn-env",
   "language": "python",
   "name": "learn-env"
  },
  "language_info": {
   "codemirror_mode": {
    "name": "ipython",
    "version": 3
   },
   "file_extension": ".py",
   "mimetype": "text/x-python",
   "name": "python",
   "nbconvert_exporter": "python",
   "pygments_lexer": "ipython3",
   "version": "3.6.9"
  },
  "toc": {
   "base_numbering": 1,
   "nav_menu": {},
   "number_sections": true,
   "sideBar": true,
   "skip_h1_title": false,
   "title_cell": "Table of Contents",
   "title_sidebar": "Contents",
   "toc_cell": false,
   "toc_position": {},
   "toc_section_display": true,
   "toc_window_display": false
  },
  "varInspector": {
   "cols": {
    "lenName": 16,
    "lenType": 16,
    "lenVar": 40
   },
   "kernels_config": {
    "python": {
     "delete_cmd_postfix": "",
     "delete_cmd_prefix": "del ",
     "library": "var_list.py",
     "varRefreshCmd": "print(var_dic_list())"
    },
    "r": {
     "delete_cmd_postfix": ") ",
     "delete_cmd_prefix": "rm(",
     "library": "var_list.r",
     "varRefreshCmd": "cat(var_dic_list()) "
    }
   },
   "types_to_exclude": [
    "module",
    "function",
    "builtin_function_or_method",
    "instance",
    "_Feature"
   ],
   "window_display": false
  }
 },
 "nbformat": 4,
 "nbformat_minor": 4
}

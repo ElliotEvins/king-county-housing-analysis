{
 "cells": [
  {
   "cell_type": "markdown",
   "metadata": {},
   "source": [
    "# Build Model #3 - Polynomial"
   ]
  },
  {
   "cell_type": "markdown",
   "metadata": {},
   "source": [
    "This approach to building a model will once again incorporate the deeper at each variable before incorporating it into a model. We will attempt to apply higher-order relationships and build a polynomial regression."
   ]
  },
  {
   "cell_type": "code",
   "execution_count": 1,
   "metadata": {},
   "outputs": [],
   "source": [
    "# Import libraries and dataframe:\n",
    "import pandas as pd\n",
    "import numpy as np\n",
    "import math\n",
    "import matplotlib.pyplot as plt\n",
    "import scipy.stats as stats\n",
    "from scipy.stats import pearsonr\n",
    "import statsmodels.api as sm\n",
    "import statsmodels.formula.api as smf\n",
    "from statsmodels.formula.api import ols\n",
    "import statsmodels.stats.api as sms\n",
    "from statsmodels.stats.outliers_influence import variance_inflation_factor\n",
    "from sklearn.preprocessing import LabelEncoder\n",
    "from sklearn.preprocessing import LabelBinarizer\n",
    "from sklearn.preprocessing import PolynomialFeatures\n",
    "from sklearn.preprocessing import MinMaxScaler\n",
    "from sklearn.linear_model import LinearRegression\n",
    "import sklearn.metrics as metrics\n",
    "from sklearn.feature_selection import RFE\n",
    "from sklearn.model_selection import train_test_split\n",
    "from sklearn.model_selection import cross_val_score\n",
    "from sklearn.model_selection import KFold\n",
    "from sklearn.model_selection import cross_val_predict\n",
    "\n",
    "from warnings import filterwarnings\n",
    "filterwarnings('ignore')\n",
    "\n",
    "import matplotlib.pyplot as plt\n",
    "plt.style.use('seaborn')\n",
    "import seaborn as sns\n",
    "sns.set(style=\"darkgrid\", color_codes=True)\n",
    "\n",
    "df_import = pd.read_csv('../CSVs/kc_sorted.csv')"
   ]
  },
  {
   "cell_type": "code",
   "execution_count": 2,
   "metadata": {},
   "outputs": [],
   "source": [
    "df = df_import.drop(['Unnamed: 0',\n",
    " 'Unnamed: 0.1',\n",
    " 'quadrant_1',\n",
    " 'quadrant_2',\n",
    " 'quadrant_3',\n",
    " 'quadrant_4',\n",
    " 'zip_98039',\n",
    " 'zip_98004',\n",
    " 'zip_98112',\n",
    " 'zip_98040',\n",
    " 'zip_98102',\n",
    " 'zip_98199',\n",
    " 'zip_98109',\n",
    " 'zip_98105',\n",
    " 'zip_98119',\n",
    " 'zip_98115'], axis = 1)"
   ]
  },
  {
   "cell_type": "code",
   "execution_count": 3,
   "metadata": {},
   "outputs": [
    {
     "data": {
      "text/plain": [
       "['id',\n",
       " 'date',\n",
       " 'price',\n",
       " 'bedrooms',\n",
       " 'bathrooms',\n",
       " 'view',\n",
       " 'condition',\n",
       " 'grade',\n",
       " 'yr_built',\n",
       " 'zipcode',\n",
       " 'lat',\n",
       " 'long',\n",
       " 'month',\n",
       " 'year',\n",
       " 'age',\n",
       " 'reno_age',\n",
       " 'multiple_stories',\n",
       " 'on_water',\n",
       " 'renovated',\n",
       " 'has_basement',\n",
       " 'log_sqft_living',\n",
       " 'spring',\n",
       " 'summer',\n",
       " 'day_of_year',\n",
       " 'log_price']"
      ]
     },
     "execution_count": 3,
     "metadata": {},
     "output_type": "execute_result"
    }
   ],
   "source": [
    "list(df.columns)"
   ]
  },
  {
   "cell_type": "code",
   "execution_count": 4,
   "metadata": {},
   "outputs": [],
   "source": [
    "# Our adjusted R**2 function:\n",
    "def adjustedR2(r2,n,k):\n",
    "    return r2-(k-1)/(n-k)*(1-r2)"
   ]
  },
  {
   "cell_type": "code",
   "execution_count": 5,
   "metadata": {},
   "outputs": [],
   "source": [
    "# Our regression results function\n",
    "def regression_results(y_true, y_pred, terms):\n",
    "\n",
    "    # Regression metrics\n",
    "    mean_absolute_error=metrics.mean_absolute_error(y_true, y_pred) \n",
    "    mse=metrics.mean_squared_error(y_true, y_pred) \n",
    "    median_absolute_error=metrics.median_absolute_error(y_true, y_pred)\n",
    "    r2=metrics.r2_score(y_true, y_pred)\n",
    "    adjr2 = adjustedR2(r2, len(terms), len(terms.columns))\n",
    "  \n",
    "    print('r2: ', round(r2,4))\n",
    "    print('Adjusted r2: ', round(adjr2,4))\n",
    "    print('MAE: ', round(mean_absolute_error,4))\n",
    "    print('MSE: ', round(mse,4))\n",
    "    print('RMSE: ', round(np.sqrt(mse),4))"
   ]
  },
  {
   "cell_type": "code",
   "execution_count": 6,
   "metadata": {},
   "outputs": [],
   "source": [
    "drops = drops = ['id','price','log_price','date', 'day_of_year', 'lat','long','zipcode']"
   ]
  },
  {
   "cell_type": "code",
   "execution_count": 7,
   "metadata": {},
   "outputs": [
    {
     "data": {
      "text/html": [
       "<table class=\"simpletable\">\n",
       "<tr>\n",
       "        <td>Model:</td>               <td>OLS</td>         <td>Adj. R-squared:</td>      <td>0.618</td>   \n",
       "</tr>\n",
       "<tr>\n",
       "  <td>Dependent Variable:</td>       <td>price</td>             <td>AIC:</td>         <td>603679.3992</td>\n",
       "</tr>\n",
       "<tr>\n",
       "         <td>Date:</td>        <td>2020-07-26 14:53</td>        <td>BIC:</td>         <td>603807.3458</td>\n",
       "</tr>\n",
       "<tr>\n",
       "   <td>No. Observations:</td>        <td>21953</td>        <td>Log-Likelihood:</td>   <td>-3.0182e+05</td>\n",
       "</tr>\n",
       "<tr>\n",
       "       <td>Df Model:</td>             <td>15</td>           <td>F-statistic:</td>        <td>2370.</td>   \n",
       "</tr>\n",
       "<tr>\n",
       "     <td>Df Residuals:</td>          <td>21937</td>      <td>Prob (F-statistic):</td>    <td>0.00</td>    \n",
       "</tr>\n",
       "<tr>\n",
       "      <td>R-squared:</td>            <td>0.618</td>            <td>Scale:</td>        <td>5.1257e+10</td> \n",
       "</tr>\n",
       "</table>\n",
       "<table class=\"simpletable\">\n",
       "<tr>\n",
       "          <td></td>              <th>Coef.</th>       <th>Std.Err.</th>      <th>t</th>     <th>P>|t|</th>     <th>[0.025</th>         <th>0.975]</th>    \n",
       "</tr>\n",
       "<tr>\n",
       "  <th>Intercept</th>        <td>-38346734.3999</td> <td>6724277.8270</td> <td>-5.7027</td> <td>0.0000</td> <td>-51526803.9670</td> <td>-25166664.8329</td>\n",
       "</tr>\n",
       "<tr>\n",
       "  <th>spring[T.True]</th>     <td>23451.8985</td>     <td>4376.3765</td>  <td>5.3587</td>  <td>0.0000</td>   <td>14873.8848</td>     <td>32029.9122</td>  \n",
       "</tr>\n",
       "<tr>\n",
       "  <th>summer[T.True]</th>     <td>15925.1662</td>     <td>4567.5069</td>  <td>3.4866</td>  <td>0.0005</td>    <td>6972.5232</td>     <td>24877.8091</td>  \n",
       "</tr>\n",
       "<tr>\n",
       "  <th>bedrooms</th>           <td>-18402.6744</td>    <td>2187.0927</td>  <td>-8.4142</td> <td>0.0000</td>   <td>-22689.5338</td>    <td>-14115.8150</td> \n",
       "</tr>\n",
       "<tr>\n",
       "  <th>bathrooms</th>          <td>96359.2752</td>     <td>3472.4765</td>  <td>27.7494</td> <td>0.0000</td>   <td>89552.9709</td>     <td>103165.5795</td> \n",
       "</tr>\n",
       "<tr>\n",
       "  <th>view</th>               <td>53629.1083</td>     <td>2317.9985</td>  <td>23.1360</td> <td>0.0000</td>   <td>49085.6640</td>     <td>58172.5526</td>  \n",
       "</tr>\n",
       "<tr>\n",
       "  <th>condition</th>          <td>17152.2828</td>     <td>2571.4516</td>  <td>6.6703</td>  <td>0.0000</td>   <td>12112.0521</td>     <td>22192.5135</td>  \n",
       "</tr>\n",
       "<tr>\n",
       "  <th>grade</th>              <td>167397.2738</td>    <td>2150.1775</td>  <td>77.8528</td> <td>0.0000</td>   <td>163182.7707</td>    <td>171611.7768</td> \n",
       "</tr>\n",
       "<tr>\n",
       "  <th>yr_built</th>           <td>11015.3363</td>     <td>2224.8249</td>  <td>4.9511</td>  <td>0.0000</td>    <td>6654.5190</td>     <td>15376.1536</td>  \n",
       "</tr>\n",
       "<tr>\n",
       "  <th>month</th>               <td>3719.9020</td>     <td>944.4401</td>   <td>3.9387</td>  <td>0.0001</td>    <td>1868.7313</td>      <td>5571.0726</td>  \n",
       "</tr>\n",
       "<tr>\n",
       "  <th>year</th>               <td>25961.8109</td>     <td>4448.9217</td>  <td>5.8355</td>  <td>0.0000</td>   <td>17241.6034</td>     <td>34682.0183</td>  \n",
       "</tr>\n",
       "<tr>\n",
       "  <th>age</th>                <td>14946.4747</td>     <td>2224.6866</td>  <td>6.7185</td>  <td>0.0000</td>   <td>10585.9285</td>     <td>19307.0209</td>  \n",
       "</tr>\n",
       "<tr>\n",
       "  <th>reno_age</th>           <td>-2745.2075</td>     <td>482.4555</td>   <td>-5.6901</td> <td>0.0000</td>   <td>-3690.8551</td>     <td>-1799.5599</td>  \n",
       "</tr>\n",
       "<tr>\n",
       "  <th>multiple_stories</th> <td>-38346734.3999</td> <td>6724277.8270</td> <td>-5.7027</td> <td>0.0000</td> <td>-51526803.9670</td> <td>-25166664.8329</td>\n",
       "</tr>\n",
       "<tr>\n",
       "  <th>on_water</th>           <td>606691.7044</td>   <td>19505.2729</td>  <td>31.1040</td> <td>0.0000</td>   <td>568459.9625</td>    <td>644923.4463</td> \n",
       "</tr>\n",
       "<tr>\n",
       "  <th>renovated</th>          <td>64411.5138</td>    <td>12125.8926</td>  <td>5.3119</td>  <td>0.0000</td>   <td>40643.8896</td>     <td>88179.1380</td>  \n",
       "</tr>\n",
       "<tr>\n",
       "  <th>has_basement</th>        <td>3687.7415</td>     <td>3430.2238</td>  <td>1.0751</td>  <td>0.2824</td>   <td>-3035.7445</td>     <td>10411.2276</td>  \n",
       "</tr>\n",
       "<tr>\n",
       "  <th>log_sqft_living</th>    <td>137976.3984</td>    <td>7445.5374</td>  <td>18.5314</td> <td>0.0000</td>   <td>123382.6081</td>    <td>152570.1887</td> \n",
       "</tr>\n",
       "</table>\n",
       "<table class=\"simpletable\">\n",
       "<tr>\n",
       "     <td>Omnibus:</td>    <td>19206.221</td>  <td>Durbin-Watson:</td>           <td>1.957</td>        \n",
       "</tr>\n",
       "<tr>\n",
       "  <td>Prob(Omnibus):</td>   <td>0.000</td>   <td>Jarque-Bera (JB):</td>      <td>2241909.671</td>     \n",
       "</tr>\n",
       "<tr>\n",
       "       <td>Skew:</td>       <td>3.692</td>       <td>Prob(JB):</td>             <td>0.000</td>        \n",
       "</tr>\n",
       "<tr>\n",
       "     <td>Kurtosis:</td>    <td>51.953</td>    <td>Condition No.:</td>   <td>121302381641160015872</td>\n",
       "</tr>\n",
       "</table>"
      ],
      "text/plain": [
       "<class 'statsmodels.iolib.summary2.Summary'>\n",
       "\"\"\"\n",
       "                             Results: Ordinary least squares\n",
       "=========================================================================================\n",
       "Model:                     OLS                     Adj. R-squared:            0.618      \n",
       "Dependent Variable:        price                   AIC:                       603679.3992\n",
       "Date:                      2020-07-26 14:53        BIC:                       603807.3458\n",
       "No. Observations:          21953                   Log-Likelihood:            -3.0182e+05\n",
       "Df Model:                  15                      F-statistic:               2370.      \n",
       "Df Residuals:              21937                   Prob (F-statistic):        0.00       \n",
       "R-squared:                 0.618                   Scale:                     5.1257e+10 \n",
       "-----------------------------------------------------------------------------------------\n",
       "                     Coef.        Std.Err.      t    P>|t|      [0.025         0.975]    \n",
       "-----------------------------------------------------------------------------------------\n",
       "Intercept        -38346734.3999 6724277.8270 -5.7027 0.0000 -51526803.9670 -25166664.8329\n",
       "spring[T.True]       23451.8985    4376.3765  5.3587 0.0000     14873.8848     32029.9122\n",
       "summer[T.True]       15925.1662    4567.5069  3.4866 0.0005      6972.5232     24877.8091\n",
       "bedrooms            -18402.6744    2187.0927 -8.4142 0.0000    -22689.5338    -14115.8150\n",
       "bathrooms            96359.2752    3472.4765 27.7494 0.0000     89552.9709    103165.5795\n",
       "view                 53629.1083    2317.9985 23.1360 0.0000     49085.6640     58172.5526\n",
       "condition            17152.2828    2571.4516  6.6703 0.0000     12112.0521     22192.5135\n",
       "grade               167397.2738    2150.1775 77.8528 0.0000    163182.7707    171611.7768\n",
       "yr_built             11015.3363    2224.8249  4.9511 0.0000      6654.5190     15376.1536\n",
       "month                 3719.9020     944.4401  3.9387 0.0001      1868.7313      5571.0726\n",
       "year                 25961.8109    4448.9217  5.8355 0.0000     17241.6034     34682.0183\n",
       "age                  14946.4747    2224.6866  6.7185 0.0000     10585.9285     19307.0209\n",
       "reno_age             -2745.2075     482.4555 -5.6901 0.0000     -3690.8551     -1799.5599\n",
       "multiple_stories -38346734.3999 6724277.8270 -5.7027 0.0000 -51526803.9670 -25166664.8329\n",
       "on_water            606691.7044   19505.2729 31.1040 0.0000    568459.9625    644923.4463\n",
       "renovated            64411.5138   12125.8926  5.3119 0.0000     40643.8896     88179.1380\n",
       "has_basement          3687.7415    3430.2238  1.0751 0.2824     -3035.7445     10411.2276\n",
       "log_sqft_living     137976.3984    7445.5374 18.5314 0.0000    123382.6081    152570.1887\n",
       "-----------------------------------------------------------------------------------------\n",
       "Omnibus:                19206.221         Durbin-Watson:            1.957                \n",
       "Prob(Omnibus):          0.000             Jarque-Bera (JB):         2241909.671          \n",
       "Skew:                   3.692             Prob(JB):                 0.000                \n",
       "Kurtosis:               51.953            Condition No.:            121302381641160015872\n",
       "=========================================================================================\n",
       "* The condition number is large (1e+20). This might indicate             strong\n",
       "multicollinearity or other numerical problems.\n",
       "\"\"\""
      ]
     },
     "execution_count": 7,
     "metadata": {},
     "output_type": "execute_result"
    }
   ],
   "source": [
    "outcome = 'price'\n",
    "x_cols = df.drop(drops, axis=1).columns\n",
    "predictors = '+'.join(x_cols)\n",
    "f = outcome + '~' + predictors\n",
    "\n",
    "model = smf.ols(formula=f, data=df).fit()\n",
    "model.summary2()"
   ]
  },
  {
   "cell_type": "markdown",
   "metadata": {},
   "source": [
    "# Let's build a quick Polynomial model and see if this is a path worth pursuing"
   ]
  },
  {
   "cell_type": "code",
   "execution_count": 8,
   "metadata": {},
   "outputs": [],
   "source": [
    "y = df['price']\n",
    "X = df.drop(columns=drops, axis=1)\n",
    "\n",
    "poly = PolynomialFeatures(4)\n",
    "X_fin = poly.fit_transform(X)"
   ]
  },
  {
   "cell_type": "code",
   "execution_count": 9,
   "metadata": {},
   "outputs": [],
   "source": [
    "reg_poly = LinearRegression().fit(X_fin, y)"
   ]
  },
  {
   "cell_type": "code",
   "execution_count": null,
   "metadata": {},
   "outputs": [],
   "source": [
    "print(np.sqrt(mean_squared_error(y, reg_poly.predict(X_fin))))\n",
    "print(r2_score(y, reg_poly.predict(X_fin)))"
   ]
  },
  {
   "cell_type": "markdown",
   "metadata": {},
   "source": [
    "## 4 feature model Exploration"
   ]
  },
  {
   "cell_type": "code",
   "execution_count": 11,
   "metadata": {},
   "outputs": [],
   "source": [
    "# Wow! Okay this is worth looking into - let's split the data set, try some differnt features, and take a closer look at what this is doing: \n",
    "X_train, X_test, y_train, y_test = train_test_split(X, y, test_size = 0.2)\n",
    "poly = PolynomialFeatures(4)"
   ]
  },
  {
   "cell_type": "code",
   "execution_count": 12,
   "metadata": {},
   "outputs": [],
   "source": [
    "#Rebuild Model with Training Data:\n",
    "X_fin_train = poly.fit_transform(X_train)\n",
    "reg_poly_train = LinearRegression().fit(X_fin_train, y_train)\n",
    "y_hat_train = reg_poly_train.predict(poly.fit_transform(X_train))\n",
    "y_hat_train[y_hat_train < 0] = 0"
   ]
  },
  {
   "cell_type": "code",
   "execution_count": 13,
   "metadata": {},
   "outputs": [],
   "source": [
    "#Build Model with Testing Data:\n",
    "X_fin_test = poly.fit_transform(X_test)\n",
    "reg_poly_test = LinearRegression().fit(X_fin_test, y_test)\n",
    "y_hat_test = reg_poly_test.predict(poly.fit_transform(X_test))\n",
    "y_hat_test[y_hat_test < 0] = 0"
   ]
  },
  {
   "cell_type": "code",
   "execution_count": 14,
   "metadata": {},
   "outputs": [
    {
     "name": "stdout",
     "output_type": "stream",
     "text": [
      "Train model results\n",
      "r2:  0.8132\n",
      "Adjusted r2:  0.8131\n",
      "MAE:  113189.2292\n",
      "MSE:  25459582721.3429\n",
      "RMSE:  159560.5926\n"
     ]
    }
   ],
   "source": [
    "print('Train model results')\n",
    "regression_results(y_train, y_hat_train, X_train)"
   ]
  },
  {
   "cell_type": "code",
   "execution_count": 15,
   "metadata": {},
   "outputs": [
    {
     "name": "stdout",
     "output_type": "stream",
     "text": [
      "Test model results\n",
      "r2:  0.8311\n",
      "Adjusted r2:  0.8305\n",
      "MAE:  110940.2716\n",
      "MSE:  21262282785.4996\n",
      "RMSE:  145815.9209\n"
     ]
    }
   ],
   "source": [
    "print('Test model results')\n",
    "regression_results(y_test, y_hat_test, X_test)"
   ]
  },
  {
   "cell_type": "markdown",
   "metadata": {},
   "source": [
    "## 3 Feature Model Exploration"
   ]
  },
  {
   "cell_type": "code",
   "execution_count": 16,
   "metadata": {},
   "outputs": [],
   "source": [
    "y = df['price']\n",
    "X = df.drop(columns=drops, axis=1)\n",
    "X_train, X_test, y_train, y_test = train_test_split(X, y, test_size = 0.2)\n",
    "poly = PolynomialFeatures(3)"
   ]
  },
  {
   "cell_type": "code",
   "execution_count": 17,
   "metadata": {},
   "outputs": [],
   "source": [
    "#Rebuild Model with Training Data:\n",
    "X_fin_train = poly.fit_transform(X_train)\n",
    "reg_poly_train = LinearRegression().fit(X_fin_train, y_train)\n",
    "y_hat_train = reg_poly_train.predict(poly.fit_transform(X_train))\n",
    "y_hat_train[y_hat_train < 0] = 0"
   ]
  },
  {
   "cell_type": "code",
   "execution_count": 18,
   "metadata": {},
   "outputs": [],
   "source": [
    "#Build Model with Testing Data:\n",
    "X_fin_test = poly.fit_transform(X_test)\n",
    "reg_poly_test = LinearRegression().fit(X_fin_test, y_test)\n",
    "y_hat_test = reg_poly_test.predict(poly.fit_transform(X_test))\n",
    "y_hat_test[y_hat_test < 0] = 0"
   ]
  },
  {
   "cell_type": "code",
   "execution_count": 19,
   "metadata": {},
   "outputs": [
    {
     "name": "stdout",
     "output_type": "stream",
     "text": [
      "Train model results\n",
      "r2:  0.7664\n",
      "Adjusted r2:  0.7662\n",
      "MAE:  121678.6733\n",
      "MSE:  31348080532.2176\n",
      "RMSE:  177053.8916\n"
     ]
    }
   ],
   "source": [
    "print('Train model results')\n",
    "regression_results(y_train, y_hat_train, X_train)"
   ]
  },
  {
   "cell_type": "code",
   "execution_count": 20,
   "metadata": {},
   "outputs": [
    {
     "name": "stdout",
     "output_type": "stream",
     "text": [
      "Test model results\n",
      "r2:  0.8047\n",
      "Adjusted r2:  0.804\n",
      "MAE:  114253.6055\n",
      "MSE:  26263556360.1944\n",
      "RMSE:  162060.3479\n"
     ]
    }
   ],
   "source": [
    "print('Test model results')\n",
    "regression_results(y_test, y_hat_test, X_test)"
   ]
  },
  {
   "cell_type": "markdown",
   "metadata": {},
   "source": [
    "## 2 Feature Model Exploration"
   ]
  },
  {
   "cell_type": "code",
   "execution_count": 21,
   "metadata": {},
   "outputs": [],
   "source": [
    "y = df['price']\n",
    "X = df.drop(columns=drops, axis=1)\n",
    "X_train, X_test, y_train, y_test = train_test_split(X, y, test_size = 0.2)\n",
    "poly = PolynomialFeatures(2)"
   ]
  },
  {
   "cell_type": "code",
   "execution_count": 22,
   "metadata": {},
   "outputs": [],
   "source": [
    "#Rebuild Model with Training Data:\n",
    "X_fin_train = poly.fit_transform(X_train)\n",
    "reg_poly_train = LinearRegression().fit(X_fin_train, y_train)\n",
    "y_hat_train = reg_poly_train.predict(poly.fit_transform(X_train))\n",
    "y_hat_train[y_hat_train < 0] = 0"
   ]
  },
  {
   "cell_type": "code",
   "execution_count": 23,
   "metadata": {},
   "outputs": [],
   "source": [
    "#Build Model with Testing Data:\n",
    "X_fin_test = poly.fit_transform(X_test)\n",
    "reg_poly_test = LinearRegression().fit(X_fin_test, y_test)\n",
    "y_hat_test = reg_poly_test.predict(poly.fit_transform(X_test))\n",
    "y_hat_test[y_hat_test < 0] = 0"
   ]
  },
  {
   "cell_type": "code",
   "execution_count": 24,
   "metadata": {},
   "outputs": [
    {
     "name": "stdout",
     "output_type": "stream",
     "text": [
      "Train model results\n",
      "r2:  0.7262\n",
      "Adjusted r2:  0.726\n",
      "MAE:  128770.7072\n",
      "MSE:  37374966512.2906\n",
      "RMSE:  193326.0627\n"
     ]
    }
   ],
   "source": [
    "print('Train model results')\n",
    "regression_results(y_train, y_hat_train, X_train)"
   ]
  },
  {
   "cell_type": "code",
   "execution_count": 25,
   "metadata": {},
   "outputs": [
    {
     "name": "stdout",
     "output_type": "stream",
     "text": [
      "Test model results\n",
      "r2:  0.7102\n",
      "Adjusted r2:  0.71\n",
      "MAE:  128082.6195\n",
      "MSE:  36272985782.8753\n",
      "RMSE:  190454.6817\n"
     ]
    }
   ],
   "source": [
    "print('Test model results')\n",
    "regression_results(y_test, y_hat_test, X_train)"
   ]
  },
  {
   "cell_type": "markdown",
   "metadata": {},
   "source": [
    "Looks like the two feature model is the way to go! "
   ]
  },
  {
   "cell_type": "code",
   "execution_count": 36,
   "metadata": {},
   "outputs": [],
   "source": [
    "# Building the final model:\n",
    "X_fin = poly.fit_transform(X)\n",
    "reg_poly = LinearRegression().fit(X_fin, y)\n",
    "y_hat = reg_poly.predict(poly.fit_transform(X))\n",
    "y_hat[y_hat < 0] = 0"
   ]
  },
  {
   "cell_type": "code",
   "execution_count": 37,
   "metadata": {},
   "outputs": [
    {
     "data": {
      "image/png": "[encoded data removed]",
      "text/plain": [
       "<Figure size 1008x720 with 1 Axes>"
      ]
     },
     "metadata": {},
     "output_type": "display_data"
    }
   ],
   "source": [
    "plt.figure(figsize = (14,10))\n",
    "plt.scatter(y, y_hat, alpha=0.2, color='blue', edgecolors='gray')\n",
    "plt.plot([y.min(), y.max()], [y.min(), y.max()], 'k--', lw=4)\n",
    "plt.xlabel('Measured Price', size=12)\n",
    "plt.ylabel('Predicted Price', size=12)\n",
    "plt.title(\"Engineered Model - Logarithmic Target\", size=14)\n",
    "plt.show();"
   ]
  }
 ],
 "metadata": {
  "kernelspec": {
   "display_name": "Python 3",
   "language": "python",
   "name": "python3"
  },
  "language_info": {
   "codemirror_mode": {
    "name": "ipython",
    "version": 3
   },
   "file_extension": ".py",
   "mimetype": "text/x-python",
   "name": "python",
   "nbconvert_exporter": "python",
   "pygments_lexer": "ipython3",
   "version": "3.6.9"
  }
 },
 "nbformat": 4,
 "nbformat_minor": 4
}
